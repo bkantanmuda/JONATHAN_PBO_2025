{
  "nbformat": 4,
  "nbformat_minor": 0,
  "metadata": {
    "colab": {
      "provenance": [],
      "collapsed_sections": [
        "yE4Yzyg2-459",
        "mEGxYI7SGDA-",
        "tJh91A6fLO1L",
        "-EyCBw39oQnV"
      ],
      "authorship_tag": "ABX9TyNn5sFOJ3+/+DfhnQfnsh1A",
      "include_colab_link": true
    },
    "kernelspec": {
      "name": "python3",
      "display_name": "Python 3"
    },
    "language_info": {
      "name": "python"
    }
  },
  "cells": [
    {
      "cell_type": "markdown",
      "metadata": {
        "id": "view-in-github",
        "colab_type": "text"
      },
      "source": [
        "<a href=\"https://colab.research.google.com/github/bkantanmuda/JONATHAN_PBO_2025/blob/main/JOBSHEET_01.ipynb\" target=\"_parent\"><img src=\"https://colab.research.google.com/assets/colab-badge.svg\" alt=\"Open In Colab\"/></a>"
      ]
    },
    {
      "cell_type": "markdown",
      "source": [
        "# DASAR BAHASA PEMROGRAMAN PYHTON\n"
      ],
      "metadata": {
        "id": "s4h7yR8Nr9A1"
      }
    },
    {
      "cell_type": "markdown",
      "source": [
        "## PRATIKUM 1"
      ],
      "metadata": {
        "id": "yE4Yzyg2-459"
      }
    },
    {
      "cell_type": "code",
      "source": [
        "# 1. NUMBER\n",
        "print(\"1. NUMBER\")\n",
        "  ## 1.1. INTEGER\n",
        "print(\"   -INTEGER\")\n",
        "angka_int = 10\n",
        "print(\"     angka_int = \", angka_int,\"-->\", type(angka_int), \"\\n\")\n",
        "\n",
        "  ## 1.2. FLOAT\n",
        "print(\"   -FLOAT\")\n",
        "angka_float = 3.14\n",
        "print(\"     angka_float = \", angka_float,\"-->\", type(angka_float), \"\\n\")\n",
        "\n",
        "  ## 1.3. compelex\n",
        "print(\"   -COMPLEX\")\n",
        "angka_complex = 2 + 3j\n",
        "print(\"     angka_complex = \", angka_complex,\"-->\", type(angka_complex), \"\\n\")\n",
        "\n",
        "# 2. BOOLEAN\n",
        "print(\"2. BOOLEAN\")\n",
        "is_active = True\n",
        "print(\"is_active = \", is_active,\"-->\", type(is_active), \"\\n\")\n",
        "\n",
        "# 3. STRING\n",
        "print(\"3. STRING\")\n",
        "teks = \"Hello, World!\"\n",
        "print(\"teks = \", teks,\"-->\", type(teks), \"\\n\")\n",
        "\n",
        "# 4. LIST\n",
        "print(\"4. LIST\")\n",
        "daftar_angka = [1, 2, 3, 4, 5]\n",
        "print(\"daftar_angka = \", daftar_angka,\"-->\", type(daftar_angka), \"\\n\")\n",
        "\n",
        "# 5. TUPLE\n",
        "print(\"5. TUPLE\")\n",
        "koordinat = (10, 20)\n",
        "print(\"koordinat = \", koordinat,\"-->\", type(koordinat), \"\\n\")\n",
        "\n",
        "# 6. DICTIONARY\n",
        "print(\"6. DICTIONARY\")\n",
        "data_mahasiswa = {\n",
        "    \"nama\": \"Andi\",\n",
        "    \"nim\": \"A11.2022.12345\",\n",
        "    \"jurusan\": \"Teknik Informatika\"\n",
        "}\n",
        "print(\"data_mahasiswa = \", data_mahasiswa,\"-->\", type(data_mahasiswa), \"\\n\")\n",
        "\n",
        "# 7. SET\n",
        "print(\"7. SET\")\n",
        "himpunan_angka = {1, 2, 3, 2, 1}\n",
        "print(\"himpunan_angka = \", himpunan_angka,\"-->\", type(himpunan_angka), \"\\n\")\n",
        "\n",
        "# 8. CONTOH PENGGUNAAN KONVERSI TIPE DATA\n",
        "print(\"8. CONTOH PENGGUNAAN KONVERSI TIPE DATA\")\n",
        "nilai_str = '100'\n",
        "print(\"nilai_str =\", nilai_str,\"-->\", type(nilai_str))\n",
        "\n",
        "nilai_int = int(nilai_str)\n",
        "print(\"nilai_int =\", nilai_int,\"-->\", type(nilai_int))"
      ],
      "metadata": {
        "colab": {
          "base_uri": "https://localhost:8080/"
        },
        "id": "mPHzEusOAUO8",
        "outputId": "fe590ce0-6eb2-4e71-f930-b764f638d096"
      },
      "execution_count": 50,
      "outputs": [
        {
          "output_type": "stream",
          "name": "stdout",
          "text": [
            "1. NUMBER\n",
            "   -INTEGER\n",
            "     angka_int =  10 --> <class 'int'> \n",
            "\n",
            "   -FLOAT\n",
            "     angka_float =  3.14 --> <class 'float'> \n",
            "\n",
            "   -COMPLEX\n",
            "     angka_complex =  (2+3j) --> <class 'complex'> \n",
            "\n",
            "2. BOOLEAN\n",
            "is_active =  True --> <class 'bool'> \n",
            "\n",
            "3. STRING\n",
            "teks =  Hello, World! --> <class 'str'> \n",
            "\n",
            "4. LIST\n",
            "daftar_angka =  [1, 2, 3, 4, 5] --> <class 'list'> \n",
            "\n",
            "5. TUPLE\n",
            "koordinat =  (10, 20) --> <class 'tuple'> \n",
            "\n",
            "6. DICTIONARY\n",
            "data_mahasiswa =  {'nama': 'Andi', 'nim': 'A11.2022.12345', 'jurusan': 'Teknik Informatika'} --> <class 'dict'> \n",
            "\n",
            "7. SET\n",
            "himpunan_angka =  {1, 2, 3} --> <class 'set'> \n",
            "\n",
            "8. CONTOH PENGGUNAAN KONVERSI TIPE DATA\n",
            "nilai_str = 100 --> <class 'str'>\n",
            "nilai_int = 100 --> <class 'int'>\n"
          ]
        }
      ]
    },
    {
      "cell_type": "markdown",
      "source": [
        "## PRATIKUM 2"
      ],
      "metadata": {
        "id": "mEGxYI7SGDA-"
      }
    },
    {
      "cell_type": "code",
      "source": [
        "# 1. PENDEKLARASIAN VARIABLE\n",
        "nama = \"Budi\"\n",
        "umur = 20\n",
        "tinggi_badan = 170.5\n",
        "is_student = True\n",
        "\n",
        "print(\"Nama:\", nama)\n",
        "print(\"Umur:\", umur)\n",
        "print(\"Tinggi Badan:\", tinggi_badan, \" cm\")\n",
        "print(\"Mahasiswa = \", is_student)\n",
        "\n",
        "# 2. OPERASI ARIMATIKA\n",
        "a = 10\n",
        "b = 3\n",
        "\n",
        "penjumlahan = a + b\n",
        "pengurangan = a - b\n",
        "perkalian = a * b\n",
        "pembagian = a / b\n",
        "pembagian_bulat = a // b\n",
        "modulus = a % b\n",
        "pangkat = a ** b\n",
        "\n",
        "print (\"\\nOPERASI ARIMATIKA\")\n",
        "print (\"a = \", a)\n",
        "print (\"b = \", b)\n",
        "print (\"penjumalahan =\", penjumlahan)\n",
        "print (\"pengurangan =\", pengurangan)\n",
        "print (\"perkalian =\", perkalian)\n",
        "print (\"pembagian =\", pembagian)\n",
        "print (\"pembagian bulat =\", pembagian_bulat)\n",
        "print (\"modulus =\", modulus)\n",
        "print (\"pangkat =\", pangkat)\n",
        "\n",
        "# 3. OPERASI PERBANDINGAN\n",
        "lebih_besar = a > b\n",
        "lebih_kecil = a < b\n",
        "sama_dengan = a == b\n",
        "tidak_sama = a != b\n",
        "lebih_besar_sama = a >= b\n",
        "kurang_sama = a <= b\n",
        "\n",
        "print (\"\\nOPERASI PERBANDINGAN\")\n",
        "print (\"a > b = \", lebih_besar)\n",
        "print (\"a < b = \", lebih_kecil)\n",
        "print (\"a == b = \", sama_dengan)\n",
        "print (\"a != b = \", tidak_sama)\n",
        "print (\"a >= b = \", lebih_besar_sama)\n",
        "print (\"a <= b = \", kurang_sama)\n",
        "\n",
        "# 4. operasi logika\n",
        "x = True\n",
        "y = False\n",
        "\n",
        "logika_and = x and y\n",
        "logika_or = x or y\n",
        "logika_not = not x\n",
        "\n",
        "print (\"\\nOPERASI LOGIKA\")\n",
        "print (\"x = \", x)\n",
        "print (\"y = \", y)\n",
        "print (\"x and y = \", logika_and)\n",
        "print (\"x or y = \", logika_or)\n",
        "print (\"not x = \", logika_not)\n",
        "\n",
        "# 5. CONTOH PENGGUNAAN DI DALAM PERCABANGAN\n",
        "print (\"\\nCONTOH PENGGUNAAN DI DALAM PERCABANGAN\")\n",
        "a = 5\n",
        "b = 10\n",
        "if a > b and b > 0:\n",
        "  print(\"kondisi terpenuhi: a kebih besar dari b, dan b masih positif.\")\n",
        "else:\n",
        "  print(\"kondisi tidak terpenuhi atau b <= 0.\")"
      ],
      "metadata": {
        "colab": {
          "base_uri": "https://localhost:8080/"
        },
        "id": "WAZC3LQ_GKrl",
        "outputId": "288c1610-76c2-4f66-d738-165e209fdae4"
      },
      "execution_count": 3,
      "outputs": [
        {
          "output_type": "stream",
          "name": "stdout",
          "text": [
            "Nama: Budi\n",
            "Umur: 20\n",
            "Tinggi Badan: 170.5  cm\n",
            "Mahasiswa =  True\n",
            "\n",
            "OPERASI ARIMATIKA\n",
            "a =  10\n",
            "b =  3\n",
            "penjumalahan = 13\n",
            "pengurangan = 7\n",
            "perkalian = 30\n",
            "pembagian = 3.3333333333333335\n",
            "pembagian bulat = 3\n",
            "modulus = 1\n",
            "pangkat = 1000\n",
            "\n",
            "OPERASI PERBANDINGAN\n",
            "a > b =  True\n",
            "a < b =  False\n",
            "a == b =  False\n",
            "a != b =  True\n",
            "a >= b =  True\n",
            "a <= b =  False\n",
            "\n",
            "OPERASI LOGIKA\n",
            "x =  True\n",
            "y =  False\n",
            "x and y =  False\n",
            "x or y =  True\n",
            "not x =  False\n",
            "\n",
            "CONTOH PENGGUNAAN DI DALAM PERCABANGAN\n",
            "kondisi tidak terpenuhi atau b <= 0.\n"
          ]
        }
      ]
    },
    {
      "cell_type": "markdown",
      "source": [
        "## PRATIKUM 3"
      ],
      "metadata": {
        "id": "tJh91A6fLO1L"
      }
    },
    {
      "cell_type": "code",
      "source": [
        "# 1. IF SEDERHANA\n",
        "nilai = 85\n",
        "print(\"1. contoh IF sederhana\")\n",
        "if nilai > 80:\n",
        "  print (\"selamat! anda luus dengan nilai tinggi. \\n\")\n",
        "\n",
        "# 2. IF-ELS\n",
        "umur = 17\n",
        "print (\"2. contoh IF-ELSE\")\n",
        "if umur >= 18:\n",
        "  print(\"anda sudah cukup umur untuk mendapatkan SIM. \\n\")\n",
        "else:\n",
        "  print(\"anda belum cukup umur untuk mendapatkan SIM. \\n\")\n",
        "\n",
        "# 3. IF-ELIF-ELSE\n",
        "hari = \"Rabu\"\n",
        "print (\"3. contoh IF-ELIF-ELSE\")\n",
        "if hari == \"Senin\":\n",
        "  print(\"Hari Senin - saatnya kembali kerja!\")\n",
        "elif hari == \"Selasa\":\n",
        "  print(\"Hari Selasa - jadwal rapat migguan\")\n",
        "elif hari == \"Rabu\":\n",
        "  print(\"Hari Rabu - ada diskon di beberapa toko\")\n",
        "else:\n",
        "  print(\"Hari lainnya - atur jadwal mu sendiri. \\n\")\n",
        "\n",
        "# 4. IF BERSARANG (NESTED IF)\n",
        "suhu = 35\n",
        "print(\"4. contoh IF bersarang (nested IF)\")\n",
        "if suhu > 30:\n",
        "  print(\"cuaca cukup panas.\")\n",
        "  if suhu > 40:\n",
        "    print (\"bahkan sangat terik! disarankan banyak minum air agar kadar air didalam tubuh tetap terjaga.\")\n",
        "  else:\n",
        "    print (\"masih relatif normal, jaga kesehatan mu!\\n\")\n",
        "else:\n",
        "  print(\"cuaca cukup dingin.\\n\")\n",
        "\n",
        "# 5. MENGGABUNGKAN PERCABANGAN DENGAN OPERASI LOGIKA\n",
        "nilai_teori = 75\n",
        "nilai_praktik = 80\n",
        "print(\"5. contoh IF  dengan operasi logika AND/OR:\")\n",
        "if nilai_teori >= 70 and nilai_praktik >= 70:\n",
        "  print(\"selamat! anda lulus ujian teori dan praktek karena nilai memadai\\n\")\n",
        "elif nilai_teori < 70 and nilai_praktik < 70:\n",
        "  print(\"anda perlu meningkatkan nilai ujian teori dan praktek\")\n",
        "elif nilai_teori < 70:\n",
        "  print(\"andal perlu meningkatkan nilai teori\")\n",
        "else:\n",
        "  print(\"anda harus mengulang ujian teori atau praktek\\n\")\n",
        "\n",
        "# 6. PENGGUNAAN IF TERNARY (ATAU CONDITIONAL EXPRESSION)\n",
        "angka = -5\n",
        "print(\"6. contoh if ternary (conditional expression): \")\n",
        "status = \"positif\" if angka  > 0 else \"negatif atau Nol\"\n",
        "print(\"angka = \", angka, \"=>\", status)"
      ],
      "metadata": {
        "id": "yXQTb5PJLRHw",
        "colab": {
          "base_uri": "https://localhost:8080/"
        },
        "outputId": "9dad48ec-d8bb-41b6-dd22-b46523877d48"
      },
      "execution_count": 7,
      "outputs": [
        {
          "output_type": "stream",
          "name": "stdout",
          "text": [
            "1. contoh IF sederhana\n",
            "selamat! anda luus dengan nilai tinggi. \n",
            "\n",
            "2. contoh IF-ELSE\n",
            "anda belum cukup umur untuk mendapatkan SIM. \n",
            "\n",
            "3. contoh IF-ELIF-ELSE\n",
            "Hari Rabu - ada diskon di beberapa toko\n",
            "4. contoh IF bersarang (nested IF)\n",
            "cuaca cukup panas.\n",
            "masih relatif normal, jaga kesehatan mu!\n",
            "\n",
            "5. contoh IF  dengan operasi logika AND/OR:\n",
            "selamat! anda lulus ujian teori dan praktek karena nilai memadai\n",
            "\n",
            "6. contoh if ternary (conditional expression): \n",
            "angka =  -5 => negatif atau Nol\n"
          ]
        }
      ]
    },
    {
      "cell_type": "markdown",
      "source": [
        "## PRATIKUM 4"
      ],
      "metadata": {
        "id": "-EyCBw39oQnV"
      }
    },
    {
      "cell_type": "code",
      "source": [
        "# 1. FOR LOOP DENGAN RANGE\n",
        "print(\"1. FOR LOOP DENGAN RANGE\")\n",
        "for i in range(5): #[range]: menghasilkan nilai 0-4\n",
        "  print(\"perulangan ke-\", i)\n",
        "\n",
        "print()\n",
        "\n",
        "# 2. FOR LOOP UNTUK MENGITERASI LIST\n",
        "print(\"2. FOR LOOP UNTUK MENGITERASI LIST\")\n",
        "buah = [\"apel\",\"apel\", \"jeruk\", \"mangga\"]\n",
        "for item in buah:\n",
        "  print(\"buah:\", item)\n",
        "\n",
        "print()\n",
        "\n",
        "# 3. WHITE LOOP\n",
        "print(\"3. WHILE LOOP\")\n",
        "count = 0\n",
        "while count < 5:\n",
        "  print(\"count:\", count)\n",
        "  count += 1\n",
        "\n",
        "print()\n",
        "\n",
        "# 4. BREAK PADA LOOP\n",
        "print(\"4. BREAK PADA LOOP\")\n",
        "for i in range(10):\n",
        "  if i == 3:\n",
        "    print(\"loop dihentikan pada i = \", i)\n",
        "    break\n",
        "  print(\"i= \", i)\n",
        "\n",
        "print()\n",
        "\n",
        "# 5. CONTINUE PADA LOOP\n",
        "print(\"5. CONTINUE didalam loop\")\n",
        "for i in range (5):\n",
        "  if i == 2:\n",
        "    print(\"lewati i = \", i, \"dengan continue\")\n",
        "    continue\n",
        "  print(\"i = \", i)\n",
        "\n",
        "print()\n",
        "\n",
        "# 6. NESTED LOOP (LOOP BERSARANG)\n",
        "print(\"6. NESTED LOOP (LOOP BERSARANG)\")\n",
        "for i in range(3):\n",
        "  for j in range(2):\n",
        "    print(f\"i={i}, j={j}\")\n",
        "print(\"!note: kurang paham sama bagian ini! \\n\")\n",
        "\n",
        "# 7. memanfaatkan else pada loop\n",
        "print(\"7. memanfaatkan else pada loop\")\n",
        "for x in range(3):\n",
        "  print(\"x = \", x)\n",
        "else:\n",
        "  print(\"loop selesai tanpa break! \\n\")\n",
        "\n",
        "y = 0\n",
        "while y < 3:\n",
        "  print(\"y = \", y)\n",
        "  y += 1\n",
        "else:\n",
        "  print(\"loop selesai tanpa break! \\n\")"
      ],
      "metadata": {
        "colab": {
          "base_uri": "https://localhost:8080/"
        },
        "id": "n9Q1I6KEnxdK",
        "outputId": "76baec1b-48a1-4bc0-c121-f6bd980cf1e0"
      },
      "execution_count": 39,
      "outputs": [
        {
          "output_type": "stream",
          "name": "stdout",
          "text": [
            "1. FOR LOOP DENGAN RANGE\n",
            "perulangan ke- 0\n",
            "perulangan ke- 1\n",
            "perulangan ke- 2\n",
            "perulangan ke- 3\n",
            "perulangan ke- 4\n",
            "\n",
            "2. FOR LOOP UNTUK MENGITERASI LIST\n",
            "buah: apel\n",
            "buah: apel\n",
            "buah: jeruk\n",
            "buah: mangga\n",
            "\n",
            "3. WHILE LOOP\n",
            "count: 0\n",
            "count: 1\n",
            "count: 2\n",
            "count: 3\n",
            "count: 4\n",
            "\n",
            "4. BREAK PADA LOOP\n",
            "i=  0\n",
            "i=  1\n",
            "i=  2\n",
            "loop dihentikan pada i =  3\n",
            "\n",
            "5. CONTINUE didalam loop\n",
            "i =  0\n",
            "i =  1\n",
            "lewati i =  2 dengan continue\n",
            "i =  3\n",
            "i =  4\n",
            "\n",
            "6. NESTED LOOP (LOOP BERSARANG)\n",
            "i=0, j=0\n",
            "i=0, j=1\n",
            "i=1, j=0\n",
            "i=1, j=1\n",
            "i=2, j=0\n",
            "i=2, j=1\n",
            "!note: kurang paham sama bagian ini! \n",
            "\n",
            "7. memanfaatkan else pada loop\n",
            "x =  0\n",
            "x =  1\n",
            "x =  2\n",
            "loop selesai tanpa break! \n",
            "\n",
            "y =  0\n",
            "y =  1\n",
            "y =  2\n",
            "loop selesai tanpa break! \n",
            "\n"
          ]
        }
      ]
    },
    {
      "cell_type": "markdown",
      "source": [
        "# PENUGASAN"
      ],
      "metadata": {
        "id": "hwtgYd11x5GG"
      }
    },
    {
      "cell_type": "markdown",
      "source": [
        "## BMI CALCULATOR"
      ],
      "metadata": {
        "id": "2B53dKM3yAsr"
      }
    },
    {
      "cell_type": "code",
      "source": [
        "print(\"BMI CALCULATOR\")\n",
        "kg = int(input(\"Masukkan berat badan (kg): \"))\n",
        "cm = int(input(\"Masukkan tinggi badan (cm): \"))\n",
        "\n",
        "m = cm / 100\n",
        "BMI = kg / (m*m)\n",
        "BMI_B = kg // (m*m)\n",
        "\n",
        "print(\"BMI yang ada di tubuh kamu sebesar \", BMI, \"~~\", BMI_B)\n",
        "\n",
        "if BMI < 18.5:\n",
        "  print(\"Berat badan kamu kurang!! ayok jangan malas makan!!\")\n",
        "elif BMI >= 18.5 and BMI <= 24.9:\n",
        "  print(\"Berat badan kamu ideal, selalu pertahankan\")\n",
        "elif BMI >= 25 and BMI <= 29.9:\n",
        "  print(\"Berat badan kamu lebih, ayok diet sedikit agar lebih sehat\")\n",
        "else:\n",
        "  print(\"kamu obesitas!! ayok diet!!\")\n"
      ],
      "metadata": {
        "colab": {
          "base_uri": "https://localhost:8080/"
        },
        "id": "2RTWJbn0yTUT",
        "outputId": "686295eb-2135-4f01-a531-7128ffcbac7e"
      },
      "execution_count": 44,
      "outputs": [
        {
          "output_type": "stream",
          "name": "stdout",
          "text": [
            "BMI CALCULATOR\n",
            "Masukkan berat badan (kg): 100\n",
            "Masukkan tinggi badan (cm): 160\n",
            "BMI yang ada di tubuh kamu sebesar  39.06249999999999 ~~ 39.0\n",
            "kamu obesitas!! ayok diet!!\n"
          ]
        }
      ]
    },
    {
      "cell_type": "markdown",
      "source": [
        "## GANJIL GENAP"
      ],
      "metadata": {
        "id": "KOgl2pDdyJYW"
      }
    },
    {
      "cell_type": "code",
      "source": [
        "\n",
        "angka = int(input(\"Masukkan sebuah angka: \"))\n",
        " # ganjil atau genap\n",
        "if angka % 2 == 0:\n",
        "    jenis = \"GENAP\"\n",
        "else:\n",
        "    jenis = \"GANJIL\"\n",
        "\n",
        "#prima atau bukan\n",
        "if angka < 2:\n",
        "    prima = False\n",
        "else:\n",
        "    prima = True\n",
        "    pembagi = 2\n",
        "    while pembagi * pembagi <= angka:\n",
        "        if angka % pembagi == 0:\n",
        "            prima = False\n",
        "            break\n",
        "        pembagi = pembagi + 1\n",
        "\n",
        "#hasil\n",
        "if prima:\n",
        "    print(angka, \"adalah bilangan\", jenis, \"dan juga merupakan bilangan PRIMA.\")\n",
        "else:\n",
        "    print(angka, \"adalah bilangan\", jenis, \"dan bukan bilangan PRIMA.\")\n"
      ],
      "metadata": {
        "colab": {
          "base_uri": "https://localhost:8080/"
        },
        "id": "6deyZi5xx9zT",
        "outputId": "38f2f370-3561-45e7-f459-3b27fd317870"
      },
      "execution_count": 54,
      "outputs": [
        {
          "output_type": "stream",
          "name": "stdout",
          "text": [
            "Masukkan sebuah angka: 13\n",
            "13 adalah bilangan GANJIL dan juga merupakan bilangan PRIMA.\n"
          ]
        }
      ]
    },
    {
      "cell_type": "code",
      "source": [],
      "metadata": {
        "id": "hV03mGriHmSX"
      },
      "execution_count": null,
      "outputs": []
    }
  ]
}