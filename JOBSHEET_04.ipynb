{
  "nbformat": 4,
  "nbformat_minor": 0,
  "metadata": {
    "colab": {
      "provenance": [],
      "authorship_tag": "ABX9TyOw/rO5u5ZuSVNly0O5iTh2",
      "include_colab_link": true
    },
    "kernelspec": {
      "name": "python3",
      "display_name": "Python 3"
    },
    "language_info": {
      "name": "python"
    }
  },
  "cells": [
    {
      "cell_type": "markdown",
      "metadata": {
        "id": "view-in-github",
        "colab_type": "text"
      },
      "source": [
        "<a href=\"https://colab.research.google.com/github/bkantanmuda/JONATHAN_PBO_2025/blob/main/JOBSHEET_04.ipynb\" target=\"_parent\"><img src=\"https://colab.research.google.com/assets/colab-badge.svg\" alt=\"Open In Colab\"/></a>"
      ]
    },
    {
      "cell_type": "markdown",
      "source": [
        "# JOBSHEET 4: MEMAHAMI PEWARISAN (INHERITANCE) DALAM PYTHON"
      ],
      "metadata": {
        "id": "9u3oMWN6dNMl"
      }
    },
    {
      "cell_type": "markdown",
      "source": [
        "## PRATIKUM 1: Inheritance Dasar"
      ],
      "metadata": {
        "id": "PUqoblYUdfdN"
      }
    },
    {
      "cell_type": "code",
      "execution_count": 3,
      "metadata": {
        "id": "-HcS13RtanWV",
        "colab": {
          "base_uri": "https://localhost:8080/"
        },
        "outputId": "75f4c674-c341-4e1f-9a98-db1c6012dc29"
      },
      "outputs": [
        {
          "output_type": "stream",
          "name": "stdout",
          "text": [
            "Ini adalah mobil Tesla Model S berwarna Merah.\n",
            "Mesin kendaraan Tesla Model S dinyalakan.\n",
            "Merk mobil: Tesla Model S\n"
          ]
        }
      ],
      "source": [
        "# Kelas Induk\n",
        "class Kendaraan:\n",
        "    def __init__(self, merk):\n",
        "        self.merk = merk\n",
        "\n",
        "    def mulai_mesin(self):\n",
        "        print(f\"Mesin kendaraan {self.merk} dinyalakan.\")\n",
        "\n",
        "# Kelas Anak (mewarisi dari Kendaraan)\n",
        "class Mobil(Kendaraan):\n",
        "    def __init__(self, merk, warna):\n",
        "        super().__init__(merk)  # Memanggil konstruktor dari kelas induk\n",
        "        self.warna = warna      # Atribut khusus Mobil\n",
        "\n",
        "    def info_mobil(self):\n",
        "        print(f\"Ini adalah mobil {self.merk} berwarna {self.warna}.\")\n",
        "\n",
        "# Kode Utama\n",
        "if __name__ == \"__main__\":\n",
        "    mobil_tesla = Mobil(\"Tesla Model S\", \"Merah\")\n",
        "\n",
        "    # Memanggil metode dari kelas anak\n",
        "    mobil_tesla.info_mobil()\n",
        "\n",
        "    # Memanggil metode yang diwarisi dari kelas induk\n",
        "    mobil_tesla.mulai_mesin()\n",
        "\n",
        "    # Mengakses atribut yang diwarisi\n",
        "    print(f\"Merk mobil: {mobil_tesla.merk}\")"
      ]
    },
    {
      "cell_type": "markdown",
      "source": [
        "## PRATIKUM 2: Menggunakan super() dalam konstruktor"
      ],
      "metadata": {
        "id": "3kTOTkKstt_P"
      }
    },
    {
      "cell_type": "code",
      "source": [
        "class Person:\n",
        "    def __init__(self, nama, usia):\n",
        "        self.nama = nama\n",
        "        self.usia = usia\n",
        "        print(f\"(memanggil init person untuk '{nama})\")\n",
        "\n",
        "    def perkenalkan_diri(self):\n",
        "        print(f\"Nama saya {self.nama}, saya berusia {self.usia} tahun.\")\n",
        "\n",
        "\n",
        "class Student(Person):\n",
        "    def __init__(self, nama, usia, student_id, jurusan):\n",
        "        print(f\"(memanggil init student untuk '{nama}')\")\n",
        "        super().__init__(nama, usia)\n",
        "\n",
        "        self.student_id = student_id\n",
        "        self.jurusan = jurusan\n",
        "        print(f\"(inisialisasi atribut Student selesai untuk '{nama})\")\n",
        "\n",
        "    def info_akademik(self):\n",
        "        print(f\"ID Mahasiswa: {self.student_id}\")\n",
        "        print(f\"Jurusan: {self.jurusan}\")\n",
        "\n",
        "    def perkenalkan_diri(self):\n",
        "        super().perkenalkan_diri()\n",
        "        print(f\"Saya adalah mahasiswa dengan ID {self.student_id} ,jurusan {self.jurusan}.\")\n",
        "\n",
        "if __name__ == \"__main__\":\n",
        "    mahasiswa = Student(\"Budi\", 20, \"123456\", \"Teknik Informatika\")\n",
        "    print(\"-\" * 20)\n",
        "    mahasiswa.perkenalkan_diri()\n",
        "    print(\"-\" * 20)\n",
        "    mahasiswa.info_akademik()\n",
        "\n",
        "    print(f\"\\nUsia makasiswa (mahasiswa.usia: {mahasiswa.usia})\")"
      ],
      "metadata": {
        "id": "OnGDbVp8tggc",
        "colab": {
          "base_uri": "https://localhost:8080/"
        },
        "outputId": "ebb6fd55-b845-4f09-84d7-baf2b3ea489f"
      },
      "execution_count": 2,
      "outputs": [
        {
          "output_type": "stream",
          "name": "stdout",
          "text": [
            "(memanggil init student untuk 'Budi')\n",
            "(memanggil init person untuk 'Budi)\n",
            "(inisialisasi atribut Student selesai untuk 'Budi)\n",
            "--------------------\n",
            "Nama saya Budi, saya berusia 20 tahun.\n",
            "Saya adalah mahasiswa dengan ID 123456 ,jurusan Teknik Informatika.\n",
            "--------------------\n",
            "ID Mahasiswa: 123456\n",
            "Jurusan: Teknik Informatika\n",
            "\n",
            "Usia makasiswa (mahasiswa.usia: 20)\n"
          ]
        }
      ]
    },
    {
      "cell_type": "markdown",
      "source": [
        "## PRATIKUM 3: Method Overriding dan super()"
      ],
      "metadata": {
        "id": "FCEBQm4Mt4n9"
      }
    },
    {
      "cell_type": "code",
      "source": [
        "class Hewan:\n",
        "    def __init__(self, nama):\n",
        "        self.nama = nama\n",
        "\n",
        "    def bersuara(self):\n",
        "        print(f\"{self.nama} mengeluarkan suara generik.\")\n",
        "\n",
        "    def tampilkan_info(self):\n",
        "        print(f\"Hewan ini bernama {self.nama}.\")\n",
        "\n",
        "\n",
        "class Kucing(Hewan):\n",
        "    def __init__(self, nama, ras):\n",
        "        super().__init__(nama)\n",
        "        self.ras = ras\n",
        "\n",
        "    def bersuara(self):\n",
        "        print(f\"{self.nama} (Kucing) mengeong: Meow!\")\n",
        "\n",
        "    def tampilkan_info(self):\n",
        "        super().tampilkan_info()\n",
        "        print(f\"ini adalah kucing ras: {self.ras}\")\n",
        "\n",
        "\n",
        "if __name__ == \"__main__\":\n",
        "    hewan_umum = Hewan(\"Makhluk\")\n",
        "    kucing_persia = Kucing(\"Puspus\", \"Persia\")\n",
        "\n",
        "    print(\"info Hewan Umum:\")\n",
        "    hewan_umum.tampilkan_info()\n",
        "    hewan_umum.bersuara()\n",
        "\n",
        "    print(\"-\" * 20)\n",
        "\n",
        "    print(\"info Kucing Persia:\")\n",
        "    kucing_persia.tampilkan_info()\n",
        "    kucing_persia.bersuara()"
      ],
      "metadata": {
        "colab": {
          "base_uri": "https://localhost:8080/"
        },
        "id": "J69_2f-Q0v2N",
        "outputId": "58237253-5f92-49cc-ccd9-8799a9a0e4fe"
      },
      "execution_count": 4,
      "outputs": [
        {
          "output_type": "stream",
          "name": "stdout",
          "text": [
            "info Hewan Umum:\n",
            "Hewan ini bernama Makhluk.\n",
            "Makhluk mengeluarkan suara generik.\n",
            "--------------------\n",
            "info Kucing Persia:\n",
            "Hewan ini bernama Puspus.\n",
            "ini adalah kucing ras: Persia\n",
            "Puspus (Kucing) mengeong: Meow!\n"
          ]
        }
      ]
    },
    {
      "cell_type": "markdown",
      "source": [
        "## PRATIKUM 4: Multi-level Inheritance (Pewarisan Bertingkat)"
      ],
      "metadata": {
        "id": "7YNLt26Lt89X"
      }
    },
    {
      "cell_type": "code",
      "source": [
        "class Organisme:\n",
        "    def __init__(self, nama):\n",
        "        self.nama = nama\n",
        "        print(f\"Organisme '{self.nama}' telah dibuat.\")\n",
        "\n",
        "    def bernapas(self):\n",
        "        print(f\"{self.nama} sedang bernapas.\")\n",
        "\n",
        "\n",
        "class Hewan(Organisme):\n",
        "    def __init__(self, nama, jenis_makanan):\n",
        "        super().__init__(nama)\n",
        "        self.jenis_makanan = jenis_makanan\n",
        "        print(f\"Hewan '{self.nama}' ada;aj '{self.jenis_makanan}'.\")\n",
        "\n",
        "    def bergerak(self):\n",
        "        print(f\"{self.nama} sedang bergerak.\")\n",
        "\n",
        "\n",
        "class mamalia(Hewan):\n",
        "    def __init__(self, nama, jenis_makanan, jumlah_kaki):\n",
        "        super().__init__(nama, jenis_makanan)\n",
        "        self.jumlah_kaki = jumlah_kaki\n",
        "        print(f\"mamalia '{self.nama}' memiliki {self.jumlah_kaki} kaki.\")\n",
        "\n",
        "    def meyusui(self):\n",
        "        print(f\"{self.nama} sedang menyusui.\")\n",
        "\n",
        "\n",
        "if __name__ == \"__main__\":\n",
        "    kucing = mamalia(\"Kucing Persia\", \"Karnivora\", 4)\n",
        "    print(\"-\" * 20)\n",
        "\n",
        "    kucing.meyusui()\n",
        "\n",
        "    kucing.bergerak()\n",
        "    print(f\"Jenis makanan: {kucing.jenis_makanan}\")\n",
        "\n",
        "    kucing.bernapas()\n",
        "    print(f\"Nama organisme: {kucing.nama}\")"
      ],
      "metadata": {
        "colab": {
          "base_uri": "https://localhost:8080/"
        },
        "id": "78gY9ajG0zUn",
        "outputId": "696e29c8-ee23-4ff6-a055-d5a190396277"
      },
      "execution_count": 5,
      "outputs": [
        {
          "output_type": "stream",
          "name": "stdout",
          "text": [
            "Organisme 'Kucing Persia' telah dibuat.\n",
            "Hewan 'Kucing Persia' ada;aj 'Karnivora'.\n",
            "mamalia 'Kucing Persia' memiliki 4 kaki.\n",
            "--------------------\n",
            "Kucing Persia sedang menyusui.\n",
            "Kucing Persia sedang bergerak.\n",
            "Jenis makanan: Karnivora\n",
            "Kucing Persia sedang bernapas.\n",
            "Nama organisme: Kucing Persia\n"
          ]
        }
      ]
    },
    {
      "cell_type": "markdown",
      "source": [
        "## PRATIKUM 5: Hierarchical Inheritance"
      ],
      "metadata": {
        "id": "6bg2QbdJt-ZW"
      }
    },
    {
      "cell_type": "code",
      "source": [
        "import locale\n",
        "\n",
        "try:\n",
        "    locale.setlocale(locale.LC_ALL, 'id_ID.UTF-8')\n",
        "except locale.Error:\n",
        "    print(\"Locale 'id_ID.UTF-8' tidak tersedia. Menggunakan locale default.\")\n",
        "\n",
        "\n",
        "def format_rupiah(angka):\n",
        "    try:\n",
        "        return locale.currency(angka, grouping=True, symbol='Rp')\n",
        "    except ValueError:\n",
        "        # Fallback manual jika locale tidak mendukung currency\n",
        "        return f\"Rp{angka:,.0f}\".replace(\",\", \".\")\n",
        "\n",
        "\n",
        "class Pegawai:\n",
        "    def __init__(self, nama, id_pegawai, gaji_pokok):\n",
        "        self.nama = nama\n",
        "        self.id_pegawai = id_pegawai\n",
        "        self.gaji_pokok = gaji_pokok\n",
        "\n",
        "    def hitung_gaji(self):\n",
        "        return self.gaji_pokok\n",
        "\n",
        "    def tampilkan_info(self):\n",
        "        print(f\"ID: {self.id_pegawai}, Nama: {self.nama}\")\n",
        "        print(f\"Gaji Pokok: {format_rupiah(self.gaji_pokok)}\")\n",
        "\n",
        "\n",
        "class Manager(Pegawai):\n",
        "    def __init__(self, nama, id_pegawai, gaji_pokok, tunjangan_jabatan):\n",
        "        super().__init__(nama, id_pegawai, gaji_pokok)\n",
        "        self.tunjangan_jabatan = tunjangan_jabatan\n",
        "\n",
        "    def hitung_gaji(self):\n",
        "        gaji_total = super().hitung_gaji() + self.tunjangan_jabatan\n",
        "        return gaji_total\n",
        "\n",
        "    def tampilkan_info(self):\n",
        "        print(\"--- Info Manager ---\")\n",
        "        super().tampilkan_info()\n",
        "        print(f\"Tunjangan Jabatan: {format_rupiah(self.tunjangan_jabatan)}\")\n",
        "        print(f\"Gaji Total: {format_rupiah(self.hitung_gaji())}\")\n",
        "\n",
        "\n",
        "class StaffTeknis(Pegawai):\n",
        "    def __init__(self, nama, id_pegawai, gaji_pokok, keahlian, bonus_keahlian):\n",
        "        super().__init__(nama, id_pegawai, gaji_pokok)\n",
        "        self.keahlian = keahlian\n",
        "        self.bonus_keahlian = bonus_keahlian\n",
        "\n",
        "    def hitung_gaji(self):\n",
        "        gaji_total = super().hitung_gaji() + self.bonus_keahlian\n",
        "        return gaji_total\n",
        "\n",
        "    def tampilkan_info(self):\n",
        "        print(\"--- Info Staff Teknis ---\")\n",
        "        super().tampilkan_info()\n",
        "        print(f\"Keahlian: {self.keahlian}\")\n",
        "        print(f\"Bonus Keahlian: {format_rupiah(self.bonus_keahlian)}\")\n",
        "        print(f\"Gaji Total: {format_rupiah(self.hitung_gaji())}\")\n",
        "\n",
        "\n",
        "if __name__ == \"__main__\":\n",
        "    manager1 = Manager(\"Budi Santoso\", \"M001\", 10000000, 5000000)\n",
        "    staf1 = StaffTeknis(\"Citra Lestari\", \"ST001\", 7000000, \"Python Programing\", 2000000)\n",
        "    pegawai_baru = Pegawai(\"Andi\", \"P005\", 5000000)\n",
        "\n",
        "\n",
        "    print(\"Menampilkan Info Pegawai:\")\n",
        "    manager1.tampilkan_info()\n",
        "    print(\"-\" * 20)\n",
        "    staf1.tampilkan_info()\n",
        "    print(\"-\" * 20)\n",
        "\n",
        "    print(\"--- Info Pegawai Baru ---\")\n",
        "    pegawai_baru.tampilkan_info()\n",
        "    print(f\"Total Gaji: {format_rupiah(pegawai_baru.hitung_gaji())}\")\n",
        "    print(\"-\" * 30)"
      ],
      "metadata": {
        "colab": {
          "base_uri": "https://localhost:8080/"
        },
        "id": "YCaWJXKO02-X",
        "outputId": "eed44f8b-c0ff-4240-a5b1-b6eab531beaa"
      },
      "execution_count": 7,
      "outputs": [
        {
          "output_type": "stream",
          "name": "stdout",
          "text": [
            "Locale 'id_ID.UTF-8' tidak tersedia. Menggunakan locale default.\n",
            "Menampilkan Info Pegawai:\n",
            "--- Info Manager ---\n",
            "ID: M001, Nama: Budi Santoso\n",
            "Gaji Pokok: Rp10.000.000\n",
            "Tunjangan Jabatan: Rp5.000.000\n",
            "Gaji Total: Rp15.000.000\n",
            "--------------------\n",
            "--- Info Staff Teknis ---\n",
            "ID: ST001, Nama: Citra Lestari\n",
            "Gaji Pokok: Rp7.000.000\n",
            "Keahlian: Python Programing\n",
            "Bonus Keahlian: Rp2.000.000\n",
            "Gaji Total: Rp9.000.000\n",
            "--------------------\n",
            "--- Info Pegawai Baru ---\n",
            "ID: P005, Nama: Andi\n",
            "Gaji Pokok: Rp5.000.000\n",
            "Total Gaji: Rp5.000.000\n",
            "------------------------------\n"
          ]
        }
      ]
    },
    {
      "cell_type": "markdown",
      "source": [
        "## PRATIKUM 6: Memeriksa Tipe Instance dengan instance()"
      ],
      "metadata": {
        "id": "4c-Os7Z1t_3n"
      }
    },
    {
      "cell_type": "code",
      "source": [
        "class BentukGeometri:\n",
        "    def __init__(self, nama):\n",
        "        self.nama = nama\n",
        "\n",
        "    def tampilkan_nama(self):\n",
        "        print(f\"ini adalah bentuk: {self.nama}.\")\n",
        "\n",
        "    def hitung_luas(self):\n",
        "        print(f\"Luas {self.nama} tidak dapat dihitung (generik).\")\n",
        "\n",
        "class PersegiPanjang(BentukGeometri):\n",
        "    def __init__(self, panjang, lebar):\n",
        "        super().__init__(\"Persegi Panjang\")\n",
        "        self.panjang = panjang\n",
        "        self.lebar = lebar\n",
        "\n",
        "    def hitung_luas(self):\n",
        "        luas = self.panjang * self.lebar\n",
        "        print(f\"Luas {self.nama}: {luas}\")\n",
        "\n",
        "class Segitiga(BentukGeometri):\n",
        "    def __init__(self, alas, tinggi):\n",
        "        super().__init__(\"Segitiga\")\n",
        "        self.alas = alas\n",
        "        self.tinggi = tinggi\n",
        "\n",
        "    def hitung_luas(self):\n",
        "        luas = 0.5 * self.alas * self.tinggi\n",
        "        print(f\"Luas {self.nama}: {luas}\")\n",
        "\n",
        "def proses_bentuk(bentuk):\n",
        "    print(f\"\\n memproses objek: {type(bentuk)}\")\n",
        "\n",
        "    if isinstance(bentuk, BentukGeometri):\n",
        "        bentuk.tampilkan_nama()\n",
        "        print(\"objek ini adalah instance dari BentukGeometri (atau turunannya)\")\n",
        "\n",
        "    if isinstance(bentuk, PersegiPanjang):\n",
        "        print(\"objek ini juga adalah instance dari PersegiPanjang\")\n",
        "    elif isinstance(bentuk, Segitiga):\n",
        "        print(\"objek ini juga adalah instance dari Segitiga\")\n",
        "    else:\n",
        "        print(\"objek ini bukan instance dari BentukGeometri\")\n",
        "\n",
        "\n",
        "if __name__ == \"__main__\":\n",
        "    pp = PersegiPanjang(4, 3)\n",
        "    seg = Segitiga(5, 2)\n",
        "    bg = BentukGeometri(\"Lingkaran\")\n",
        "    teks = \"ini string\"\n",
        "\n",
        "    daftar_objek = [pp, seg, bg, teks]\n",
        "    for obj in daftar_objek:\n",
        "        proses_bentuk(obj)"
      ],
      "metadata": {
        "colab": {
          "base_uri": "https://localhost:8080/"
        },
        "id": "gQRRLrMi1YlF",
        "outputId": "21759e86-9856-44d3-d47d-feb46c6facb5"
      },
      "execution_count": 8,
      "outputs": [
        {
          "output_type": "stream",
          "name": "stdout",
          "text": [
            "\n",
            " memproses objek: <class '__main__.PersegiPanjang'>\n",
            "ini adalah bentuk: Persegi Panjang.\n",
            "objek ini adalah instance dari BentukGeometri (atau turunannya)\n",
            "objek ini juga adalah instance dari PersegiPanjang\n",
            "\n",
            " memproses objek: <class '__main__.Segitiga'>\n",
            "ini adalah bentuk: Segitiga.\n",
            "objek ini adalah instance dari BentukGeometri (atau turunannya)\n",
            "objek ini juga adalah instance dari Segitiga\n",
            "\n",
            " memproses objek: <class '__main__.BentukGeometri'>\n",
            "ini adalah bentuk: Lingkaran.\n",
            "objek ini adalah instance dari BentukGeometri (atau turunannya)\n",
            "objek ini bukan instance dari BentukGeometri\n",
            "\n",
            " memproses objek: <class 'str'>\n",
            "objek ini bukan instance dari BentukGeometri\n"
          ]
        }
      ]
    }
  ]
}