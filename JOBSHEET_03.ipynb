{
  "nbformat": 4,
  "nbformat_minor": 0,
  "metadata": {
    "colab": {
      "provenance": [],
      "authorship_tag": "ABX9TyOMvY49BSUkg5w15Hyn2Fvw",
      "include_colab_link": true
    },
    "kernelspec": {
      "name": "python3",
      "display_name": "Python 3"
    },
    "language_info": {
      "name": "python"
    }
  },
  "cells": [
    {
      "cell_type": "markdown",
      "metadata": {
        "id": "view-in-github",
        "colab_type": "text"
      },
      "source": [
        "<a href=\"https://colab.research.google.com/github/bkantanmuda/JONATHAN_PBO_2025/blob/main/JOBSHEET_03.ipynb\" target=\"_parent\"><img src=\"https://colab.research.google.com/assets/colab-badge.svg\" alt=\"Open In Colab\"/></a>"
      ]
    },
    {
      "cell_type": "markdown",
      "source": [
        "# JOBSEET 3:\n",
        "# KONSTURKTOR DESTRUKTOR, DAN ENKAPSULASI\n",
        "\n",
        "---\n"
      ],
      "metadata": {
        "id": "cUP3ZQ3NcBrY"
      }
    },
    {
      "cell_type": "markdown",
      "source": [
        "## PRATIKUM 1"
      ],
      "metadata": {
        "id": "iwAzVmvVcjFt"
      }
    },
    {
      "source": [
        "class BankAccount:\n",
        "  def __init__(self, owner, balance):\n",
        "    self.__owner = owner\n",
        "    self.__balance = balance\n",
        "  def deposit(self, amount):\n",
        "    if amount > 0:\n",
        "      self.__balance += amount\n",
        "      print(f\"{amount} telah ditarikdari akun {self.__owner}.\")\n",
        "    else:\n",
        "      print(\"jumlah deposit harus lebih dari 0\")\n",
        "\n",
        "  def withdraw(self, amount):\n",
        "    if amount > 0 and amount <= self.__balance:\n",
        "      self.__balance -= amount\n",
        "      print(f\"{amount} telah ditarik dari akun {self.__owner}.\")\n",
        "    else:\n",
        "      print(\"saldo tidak mencukupi\")\n",
        "\n",
        "  def get_balance(self): # Define the get_balance method\n",
        "    return self.__balance\n",
        "\n",
        "\n",
        "\n",
        "if __name__ == \"__main__\":\n",
        "  alice_account = BankAccount(owner=\"Alice\", balance=1000)\n",
        "  alice_account = BankAccount (owner=\"Alice\", balance=1000)\n",
        "\n",
        "  alice_account.deposit(500)\n",
        "  alice_account.deposit(-100)\n",
        "\n",
        "  alice_account.withdraw(300)\n",
        "  alice_account.withdraw(2000)\n",
        "\n",
        "  current_balance = alice_account.get_balance()\n",
        "  print(f\"saldo terakhir di akun {alice_account._BankAccount__owner} : {current_balance}\")"
      ],
      "cell_type": "code",
      "metadata": {
        "colab": {
          "base_uri": "https://localhost:8080/"
        },
        "id": "zJg9Eygqz_2t",
        "outputId": "54b771b3-5aca-4969-edb6-530181fd0e46"
      },
      "execution_count": null,
      "outputs": [
        {
          "output_type": "stream",
          "name": "stdout",
          "text": [
            "500 telah ditarikdari akun Alice.\n",
            "jumlah deposit harus lebih dari 0\n",
            "300 telah ditarik dari akun Alice.\n",
            "saldo tidak mencukupi\n",
            "saldo terakhir di akun Alice : 1200\n"
          ]
        }
      ]
    },
    {
      "cell_type": "markdown",
      "source": [],
      "metadata": {
        "id": "A9ElE1yR4lwB"
      }
    },
    {
      "cell_type": "markdown",
      "source": [
        "## PRATIKUM 2\n"
      ],
      "metadata": {
        "id": "NAap5ELR14B7"
      }
    },
    {
      "cell_type": "code",
      "source": [
        "class Employee:\n",
        "  def __init__(self, name, salary):\n",
        "    self.__name = name\n",
        "    self.__salary = salary\n",
        "\n",
        "  def update_salary(self, increase):\n",
        "    if increase > 0:\n",
        "      self.__salary += increase\n",
        "      print(f\"gaji telah ditambahkan sebesar {increase}\")\n",
        "    else:\n",
        "      print(\"nilai kenaikan harus lebih dari 0\")\n",
        "\n",
        "  def set_salary(self, new_salary):\n",
        "    if new_salary > 0:\n",
        "      self.__salary = new_salary\n",
        "      print(f\"gaji diatur ulang menjadi {new_salary}\")\n",
        "    else:\n",
        "      print(\"gaji tidak dapat bernilai negatif\")\n",
        "\n",
        "  def get_salary(self):\n",
        "    return self.__salary\n",
        "\n",
        "  def get_employee_info(self):\n",
        "    return f\"employee: {self.__name}, gaji: {self.__salary}\"\n",
        "\n",
        "if __name__ == \"__main__\":\n",
        "  employee1 = Employee(\"John Doe\", 5000)\n",
        "  print(employee1.get_employee_info())\n",
        "\n",
        "  employee1.update_salary(5000)\n",
        "  print(f\"informasi terbaru: {employee1.get_employee_info()}\")\n",
        "\n",
        "  employee1.set_salary(6000)"
      ],
      "metadata": {
        "colab": {
          "base_uri": "https://localhost:8080/"
        },
        "id": "jvyKZEbC18gL",
        "outputId": "93d0ede3-17b9-4164-f600-e14e0bd0e57b"
      },
      "execution_count": null,
      "outputs": [
        {
          "output_type": "stream",
          "name": "stdout",
          "text": [
            "employee: John Doe, gaji: 5000\n",
            "gaji telah ditambahkan sebesar 5000\n",
            "informasi terbaru: employee: John Doe, gaji: 10000\n",
            "gaji diatur ulang menjadi 6000\n"
          ]
        }
      ]
    },
    {
      "cell_type": "markdown",
      "source": [
        "## PRATIKUM 3                               "
      ],
      "metadata": {
        "id": "xsSgfKgjPjBl"
      }
    },
    {
      "cell_type": "code",
      "source": [
        "class SimpleExample:\n",
        "  def __init__(self, name):\n",
        "    self.name = name\n",
        "    print(f\"konstruktor: objek '{self.name}' telah dibuat\")\n",
        "\n",
        "  def __del__(self):\n",
        "    print(f\"destruktor: objek '{self.name}' sedang dihapus\")\n",
        "\n",
        "def main():\n",
        "  print(\"program dimulai.\\n\")\n",
        "\n",
        "  obj = SimpleExample(\"demo\")\n",
        "  print(\"program sedang berjalan...\\n\")\n",
        "\n",
        "  del obj\n",
        "  print(\"objek telah dihapus secara eksplisit.\\n\")\n",
        "\n",
        "  print(\"program selesai.\")\n",
        "\n",
        "if __name__ == \"__main__\":\n",
        "  main()"
      ],
      "metadata": {
        "colab": {
          "base_uri": "https://localhost:8080/"
        },
        "id": "gisqS7IKPh2F",
        "outputId": "c4d9ba1d-3bf7-4668-fdf5-2a9d308b25e6"
      },
      "execution_count": 2,
      "outputs": [
        {
          "output_type": "stream",
          "name": "stdout",
          "text": [
            "konstruktor: objek 'demo' telah dibuat\n"
          ]
        }
      ]
    },
    {
      "cell_type": "markdown",
      "source": [
        "## PRATIKUM 4"
      ],
      "metadata": {
        "id": "-twZCnPvTELt"
      }
    },
    {
      "cell_type": "code",
      "source": [
        "class FileLogger:\n",
        "  def __init__(self, filename):\n",
        "    self.filename = filename\n",
        "    try:\n",
        "      self.file = open(filename, \"a\")\n",
        "      print(f\"file'{filename}' berhasil dibuka untuk logging\")\n",
        "    except Exception as e:\n",
        "      print(f\"gagal membuka file '{filename}': {e}\")\n",
        "\n",
        "  def write_log(self, message):\n",
        "    self.file.write(message + \"\\n\")\n",
        "    self.file.flush()\n",
        "    print(f\"pesan log: '{message}' telah ditulis.\")\n",
        "\n",
        "  def __del__(self):\n",
        "    if hasattr(self,\"file\") and not self.file.closed:\n",
        "      self.file.close()\n",
        "      print(f\"file '{self.filename}' telah ditutup\")\n",
        "\n",
        "if __name__ == \"__main__\":\n",
        "  logger = FileLogger(\"application.log\")\n",
        "\n",
        "  logger.write_log(\"Aplikasi dimulai\")\n",
        "  logger.write_log(\"melakukan proses A...\")\n",
        "  logger.write_log(\"operasi A selesai.\")\n",
        "  logger.write_log(\"aplikasi akan segera selesai.\")\n",
        "\n",
        "  del logger"
      ],
      "metadata": {
        "colab": {
          "base_uri": "https://localhost:8080/"
        },
        "id": "aj3rJ10xTICN",
        "outputId": "10c5953c-9eec-4475-9ac0-09438bb51d39"
      },
      "execution_count": 3,
      "outputs": [
        {
          "output_type": "stream",
          "name": "stdout",
          "text": [
            "file'application.log' berhasil dibuka untuk logging\n",
            "pesan log: 'Aplikasi dimulai' telah ditulis.\n",
            "pesan log: 'melakukan proses A...' telah ditulis.\n",
            "pesan log: 'operasi A selesai.' telah ditulis.\n",
            "pesan log: 'aplikasi akan segera selesai.' telah ditulis.\n",
            "file 'application.log' telah ditutup\n"
          ]
        }
      ]
    },
    {
      "cell_type": "markdown",
      "source": [
        "## PRATIKUM 5"
      ],
      "metadata": {
        "id": "5ZAMjAfRVqKN"
      }
    },
    {
      "cell_type": "code",
      "source": [
        "class Calculator:\n",
        "  def __init__(self, initial_value=0):\n",
        "    self.value = initial_value\n",
        "    print(f\"kalkulator diinisialisasi dengan nilai: {self.value}\")\n",
        "\n",
        "  def add(self, number):\n",
        "    self.value += number\n",
        "    print(f\"setelah penambahan {number}, nilai sekarang adalah: {self.value}\")\n",
        "\n",
        "  def subract(self, number):\n",
        "    self.value -= number\n",
        "    print(f\"setelah pengurangan {number}, nilai sekarang adalah: {self.value}\")\n",
        "\n",
        "  def reset(self):\n",
        "    self.value = 0\n",
        "    print(\"nilai telah direset ke 0\")\n",
        "\n",
        "  def show_value(self):\n",
        "    print(f\"nilai saat ini adalah: {self.value}\")\n",
        "\n",
        "\n",
        "def main():\n",
        "  calc1 = Calculator(initial_value=10)\n",
        "\n",
        "  calc1.add(5)\n",
        "  calc1.subract(3)\n",
        "  calc1.show_value()\n",
        "\n",
        "  calc1 = Calculator()\n",
        "  calc1.add(20)\n",
        "  calc1.show_value()\n",
        "\n",
        "if __name__ == \"__main__\":\n",
        "  main()"
      ],
      "metadata": {
        "colab": {
          "base_uri": "https://localhost:8080/"
        },
        "id": "s40a0dDoVsoj",
        "outputId": "3cd7fe65-386f-450f-fbdb-38249e744514"
      },
      "execution_count": 5,
      "outputs": [
        {
          "output_type": "stream",
          "name": "stdout",
          "text": [
            "kalkulator diinisialisasi dengan nilai: 10\n",
            "setelah penambahan 5, nilai sekarang adalah: 15\n",
            "setelah pengurangan 3, nilai sekarang adalah: 12\n",
            "nilai saat ini adalah: 12\n",
            "kalkulator diinisialisasi dengan nilai: 0\n",
            "setelah penambahan 20, nilai sekarang adalah: 20\n",
            "nilai saat ini adalah: 20\n"
          ]
        }
      ]
    },
    {
      "cell_type": "markdown",
      "source": [
        "## PRATIKUM 6"
      ],
      "metadata": {
        "id": "CZQbm8TVYZpP"
      }
    },
    {
      "cell_type": "code",
      "source": [
        "class Person:\n",
        "  def __init__(self, name, age):\n",
        "    self.__name = name\n",
        "    self.__age = age\n",
        "\n",
        "  @property\n",
        "  def name(self):\n",
        "    return self.__name\n",
        "\n",
        "  @name.setter\n",
        "  def name(self, value):\n",
        "    if not value:\n",
        "      print(\"nama tidak boleh kosong\")\n",
        "    else:\n",
        "      self.__name = value\n",
        "\n",
        "  @property\n",
        "  def age(self):\n",
        "    return self.__age\n",
        "\n",
        "  @age.setter\n",
        "  def age(self, value):\n",
        "    if value < 0:\n",
        "      print(\"umur tidak boleh negatif\")\n",
        "    else:\n",
        "      self.__age = value\n",
        "\n",
        "\n",
        "\n",
        "def main():\n",
        "  person = Person(\"Alice\", 25)\n",
        "  print(f\"nama: {person.name}, umur: {person.age}\")\n",
        "\n",
        "  person.name = \"Bob\"\n",
        "  person.age = 35\n",
        "  print(f\"nama baru: {person.name}, umur baru: {person.age}\")\n",
        "\n",
        "if __name__ == \"__main__\":\n",
        "  main()"
      ],
      "metadata": {
        "colab": {
          "base_uri": "https://localhost:8080/"
        },
        "id": "DHtbvoUeYb8V",
        "outputId": "65c33572-6c4a-43fb-8704-360e2546c648"
      },
      "execution_count": 9,
      "outputs": [
        {
          "output_type": "stream",
          "name": "stdout",
          "text": [
            "nama: Alice, umur: 25\n",
            "nama baru: Bob, umur baru: 35\n"
          ]
        }
      ]
    }
  ]
}